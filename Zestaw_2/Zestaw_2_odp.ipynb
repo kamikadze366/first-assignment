{
 "cells": [
  {
   "cell_type": "markdown",
   "metadata": {},
   "source": [
    "### First task"
   ]
  },
  {
   "cell_type": "code",
   "execution_count": null,
   "metadata": {},
   "outputs": [],
   "source": [
<<<<<<< HEAD
=======
    "# FIRST TASK\n",
>>>>>>> 44592eaf77ef9f36fede5cadf64b89fc3facda35
    "import pandas as pd\n",
    "import matplotlib.pyplot as plt\n",
    "import seaborn as sns\n",
    "import numpy as np\n",
    "from sklearn import linear_model\n",
    "from scipy import stats\n",
    "\n",
    "# chose 5 numerical columns\n",
    "chosen_cols = ['Respondent', 'Age', 'Age1stCode', 'YearsCode', 'YearsCodePro', 'CompTotal', 'WorkWeekHrs', 'Hobbyist', 'Country']\n",
    "df = pd.read_csv(\"C:/Users/macko/Repos/Machine_learning/survey_results_public.csv\", \n",
    "                 usecols=chosen_cols,\n",
    "                 index_col='Respondent').dropna()\n",
    "\n",
    "# checking types\n",
    "print(df.dtypes, '\\n')\n",
    "\n",
    "# change string values to numbers\n",
    "df.loc[df['YearsCode'] == 'Less than 1 year'] = 0\n",
    "df.loc[df['YearsCode'] == 'More than 50 years'] = 60\n",
    "df.loc[df['YearsCodePro'] == 'Less than 1 year'] = 0\n",
    "df.loc[df['Age1stCode'] == 'Younger than 5 years'] = 4\n",
    "\n",
    "# change types to integer\n",
    "df['Age'] = df['Age'].astype(int)\n",
    "df['YearsCode'] = df['YearsCode'].astype(int)\n",
    "df['YearsCodePro'] = df['YearsCodePro'].astype(int)\n",
    "df['Age1stCode'] = df['Age1stCode'].astype(int)\n",
    "print(df.dtypes)\n",
    "\n",
    "# sort out invalid values\n",
    "# df = df[(df['Age'] > int(15)) & (df['Age'] < int(90)) & (df['CompTotal'] < 5e8) & (df['WorkWeekHrs'] <= 168)]\n",
    "df = df[(df['WorkWeekHrs'] <= 168)]\n",
    "# correlation map\n",
    "sns.heatmap(df.corr(), annot=True)\n",
    "plt.show()"
   ]
  },
  {
   "cell_type": "code",
   "execution_count": null,
   "metadata": {},
   "outputs": [],
   "source": [
<<<<<<< HEAD
    "# deleting 2 added values from the list\n",
    "cols = df.columns.values.tolist()\n",
    "cols.remove('Hobbyist')\n",
    "cols.remove('Country')\n",
    "cols"
   ]
  },
  {
   "cell_type": "code",
   "execution_count": null,
   "metadata": {},
   "outputs": [],
   "source": [
    "df.head(1)"
   ]
  },
  {
   "cell_type": "code",
   "execution_count": null,
   "metadata": {},
   "outputs": [],
   "source": [
    "df[cols].head(1)"
   ]
  },
  {
   "cell_type": "code",
   "execution_count": null,
   "metadata": {},
   "outputs": [],
   "source": [
    "i = 0\n",
    "\n",
    "# display correlation plots\n",
    "for x_val in df[cols]: # taking only desired 5 columns\n",
    "    for i in range (cols.index(x_val) + 1, 5):\n",
    "        plt.plot(df[x_val], df[cols[i]], 'rp', markersize=0.5)\n",
=======
    "cols = df.columns.values.tolist()\n",
    "i = 0\n",
    "\n",
    "# display correlation plots\n",
    "for x_val in df:\n",
    "    for i in range (cols.index(x_val), 5):\n",
    "#         if sec_var != st_var: # comparing same variable makes no sense\n",
    "        plt.plot(df[x_val], df[cols[i + 1]], 'rp', markersize=0.5)\n",
>>>>>>> 44592eaf77ef9f36fede5cadf64b89fc3facda35
    "        plt.xlabel(x_val)\n",
    "        plt.ylabel(cols[i])\n",
    "        plt.title('Correlation: ' + str(x_val) + ' vs ' + cols[i])\n",
    "        plt.show()\n",
    "    \n",
    "# dependent variable y --> 'CompTotal'\n",
    "# independent variable x1 --> 'Age'\n",
    "# independent variable x2 --> 'Age1stCode'"
   ]
<<<<<<< HEAD
  },
  {
   "cell_type": "markdown",
   "metadata": {},
   "source": [
    "### Second task"
   ]
  },
  {
   "cell_type": "code",
   "execution_count": null,
   "metadata": {},
   "outputs": [],
   "source": [
    "# Converting string to a number\n",
    "print(df.Hobbyist.head(5))\n",
    "\n",
    "hobby_dict = {'Yes': 1, 'No': 0}\n",
    "df['Hobbyist'] = df['Hobbyist'].map(hobby_dict)\n",
    "\n",
    "print(df.Hobbyist.head(5))"
   ]
  },
  {
   "cell_type": "markdown",
   "metadata": {},
   "source": [
    "### One-hot Encoding\n",
    "It is a type of vector representation in which all of the elements in a vector are 0, except for one, which has 1 as its value, where 1 represents a boolean specifying a category of the element.\n",
    "\n",
    "One-hot encoding transforms categorical features to a format that works better with classification and regression algorithms. It's very useful in methods where multiple types of data representation is necessary."
   ]
  },
  {
   "cell_type": "code",
   "execution_count": null,
   "metadata": {},
   "outputs": [],
   "source": [
    "# Define dataframe consisting only of 2 chosen countries\n",
    "df_ohe = df[(df[\"Country\"] == \"Poland\") | (df[\"Country\"] == \"Germany\")]\n",
    "\n",
    "df_ohe = pd.get_dummies(df_ohe, columns=[\"Country\"])\n",
    "\n",
    "print(df_ohe.sample(5))"
   ]
=======
>>>>>>> 44592eaf77ef9f36fede5cadf64b89fc3facda35
  }
 ],
 "metadata": {
  "kernelspec": {
   "display_name": "Python 3",
   "language": "python",
   "name": "python3"
  },
  "language_info": {
   "codemirror_mode": {
    "name": "ipython",
    "version": 3
   },
   "file_extension": ".py",
   "mimetype": "text/x-python",
   "name": "python",
   "nbconvert_exporter": "python",
   "pygments_lexer": "ipython3",
   "version": "3.7.6"
  }
 },
 "nbformat": 4,
 "nbformat_minor": 4
}
