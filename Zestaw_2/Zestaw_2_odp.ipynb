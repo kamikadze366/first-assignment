{
 "cells": [
  {
   "cell_type": "code",
   "execution_count": null,
   "metadata": {},
   "outputs": [],
   "source": [
    "# FIRST TASK\n",
    "import pandas as pd\n",
    "import matplotlib.pyplot as plt\n",
    "import seaborn as sns\n",
    "import numpy as np\n",
    "from sklearn import linear_model\n",
    "from scipy import stats\n",
    "\n",
    "# chose 5 numerical columns\n",
    "chosen_cols = ['Respondent', 'Age', 'Age1stCode', 'YearsCode', 'YearsCodePro', 'CompTotal', 'WorkWeekHrs']\n",
    "df = pd.read_csv(\"C:/Users/macko/Repos/Machine_learning/survey_results_public.csv\", \n",
    "                 usecols=chosen_cols,\n",
    "                 index_col='Respondent').dropna()\n",
    "\n",
    "# checking types\n",
    "print(df.dtypes, '\\n')\n",
    "\n",
    "# change string values to numbers\n",
    "df.loc[df['YearsCode'] == 'Less than 1 year'] = 0\n",
    "df.loc[df['YearsCode'] == 'More than 50 years'] = 60\n",
    "df.loc[df['YearsCodePro'] == 'Less than 1 year'] = 0\n",
    "df.loc[df['Age1stCode'] == 'Younger than 5 years'] = 4\n",
    "\n",
    "# change types to integer\n",
    "df['Age'] = df['Age'].astype(int)\n",
    "df['YearsCode'] = df['YearsCode'].astype(int)\n",
    "df['YearsCodePro'] = df['YearsCodePro'].astype(int)\n",
    "df['Age1stCode'] = df['Age1stCode'].astype(int)\n",
    "print(df.dtypes)\n",
    "\n",
    "# sort out invalid values\n",
    "df = df[(df['Age'] > int(15)) & (df['Age'] < int(90)) & (df['CompTotal'] < 5e8) & (df['WorkWeekHrs'] <= 168)]\n",
    "\n",
    "# correlation map\n",
    "sns.heatmap(df.corr(), annot=True)\n",
    "plt.show()"
   ]
  },
  {
   "cell_type": "code",
   "execution_count": null,
   "metadata": {},
   "outputs": [],
   "source": [
    "cols = df.columns.values.tolist()\n",
    "i = 0\n",
    "\n",
    "# display correlation plots\n",
    "for x_val in df:\n",
    "    for i in range (cols.index(x_val), 5):\n",
    "#         if sec_var != st_var: # comparing same variable makes no sense\n",
    "        plt.plot(df[x_val], df[cols[i + 1]], 'rp', markersize=0.5)\n",
    "        plt.xlabel(x_val)\n",
    "        plt.ylabel(cols[i + 1])\n",
    "        plt.title('Correlation: ' + str(x_val) + ' vs ' + cols[i + 1])\n",
    "        plt.show()\n",
    "    \n",
    "# dependent variable y --> 'Comptotal'\n",
    "# independent variable x1 --> 'Age'\n",
    "# independent variable x2 --> 'Age1stCode'"
   ]
  }
 ],
 "metadata": {
  "kernelspec": {
   "display_name": "Python 3",
   "language": "python",
   "name": "python3"
  },
  "language_info": {
   "codemirror_mode": {
    "name": "ipython",
    "version": 3
   },
   "file_extension": ".py",
   "mimetype": "text/x-python",
   "name": "python",
   "nbconvert_exporter": "python",
   "pygments_lexer": "ipython3",
   "version": "3.7.6"
  }
 },
 "nbformat": 4,
 "nbformat_minor": 4
}
